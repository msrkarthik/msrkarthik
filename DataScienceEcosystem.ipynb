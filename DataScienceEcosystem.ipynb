{
 "cells": [
  {
   "cell_type": "markdown",
   "id": "315a83c3",
   "metadata": {},
   "source": [
    "# Data Science Tools and Ecosystem"
   ]
  },
  {
   "cell_type": "markdown",
   "id": "ab5987ce",
   "metadata": {},
   "source": [
    "#### In this notebook, Data Science Tools and Ecosystem are summarized."
   ]
  },
  {
   "cell_type": "markdown",
   "id": "8b5c11a6",
   "metadata": {},
   "source": [
    "Some of the popular languages that Data Scientists use are:"
   ]
  },
  {
   "cell_type": "markdown",
   "id": "cfd169f3",
   "metadata": {},
   "source": [
    "1. Python\n",
    "2. R\n",
    "3. Java\n",
    "4. Scala\n",
    "5. C++"
   ]
  },
  {
   "cell_type": "markdown",
   "id": "58aa69b6",
   "metadata": {},
   "source": [
    "Some of the commonly used libraries used by Data Scientists include:\n",
    "1. Pandas\n",
    "2. NumPy\n",
    "3. Matplotlib\n",
    "4. Scikit-learn\n",
    "5. Seaborn\n",
    "6. Keras"
   ]
  },
  {
   "cell_type": "markdown",
   "id": "371c1d66",
   "metadata": {},
   "source": [
    "Data Science Tools:"
   ]
  },
  {
   "cell_type": "markdown",
   "id": "b4255e54",
   "metadata": {},
   "source": [
    "1. Juputer\n",
    "2. Jupyter Lab\n",
    "3. R Studio\n",
    "4. Apache Spark\n",
    "5. Spyder"
   ]
  },
  {
   "cell_type": "markdown",
   "id": "02684f18",
   "metadata": {},
   "source": [
    "### Below are a few examples of evaluating arithmetic expressions in Python."
   ]
  },
  {
   "cell_type": "code",
   "execution_count": 19,
   "id": "ef2bbb63",
   "metadata": {},
   "outputs": [
    {
     "name": "stdout",
     "output_type": "stream",
     "text": [
      "17\n"
     ]
    }
   ],
   "source": [
    "print((3*4)+5)  #This is a simple arithmetic expression to multiply then add integers"
   ]
  },
  {
   "cell_type": "code",
   "execution_count": 23,
   "id": "f8083ed9",
   "metadata": {},
   "outputs": [
    {
     "name": "stdout",
     "output_type": "stream",
     "text": [
      "200 minutes in hours are: \n",
      "\n",
      "3.3333333333333335 hours\n"
     ]
    }
   ],
   "source": [
    "minutes = 200\n",
    "\n",
    "print('200 minutes in hours are: \\n')\n",
    "\n",
    "hours = minutes/60     #This will convert 200 minutes to hours by dividing by 60\n",
    "\n",
    "print(hours, 'hours')"
   ]
  },
  {
   "cell_type": "markdown",
   "id": "9bd6408d",
   "metadata": {},
   "source": [
    "#### Objectives:\n",
    "    . Popular languages for Data Science\n",
    "    . Tools for Data Science\n",
    "    . Common libraries for Data Science"
   ]
  },
  {
   "cell_type": "markdown",
   "id": "163b3108",
   "metadata": {},
   "source": [
    "## Author\n",
    "\n",
    "M S L Dheeraj"
   ]
  },
  {
   "cell_type": "code",
   "execution_count": null,
   "id": "14d29801",
   "metadata": {},
   "outputs": [],
   "source": []
  }
 ],
 "metadata": {
  "kernelspec": {
   "display_name": "Python 3 (ipykernel)",
   "language": "python",
   "name": "python3"
  },
  "language_info": {
   "codemirror_mode": {
    "name": "ipython",
    "version": 3
   },
   "file_extension": ".py",
   "mimetype": "text/x-python",
   "name": "python",
   "nbconvert_exporter": "python",
   "pygments_lexer": "ipython3",
   "version": "3.9.13"
  }
 },
 "nbformat": 4,
 "nbformat_minor": 5
}
