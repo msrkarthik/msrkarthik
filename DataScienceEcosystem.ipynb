{
 "cells": [
  {
   "cell_type": "markdown",
   "id": "eafb7b55",
   "metadata": {},
   "source": [
    "# Data Science Tools and Ecosystem"
   ]
  },
  {
   "cell_type": "markdown",
   "id": "3209faa6",
   "metadata": {},
   "source": [
    "#### In this notebook, Data Science Tools and Ecosystem are summarized."
   ]
  },
  {
   "cell_type": "markdown",
   "id": "fa3720a5",
   "metadata": {},
   "source": [
    "Some of the popular languages that Data Scientists use are:"
   ]
  },
  {
   "cell_type": "code",
   "execution_count": 14,
   "id": "fd0197e5",
   "metadata": {},
   "outputs": [
    {
     "name": "stdout",
     "output_type": "stream",
     "text": [
      "Some of the popular languages that Data Scientists use are:\n",
      "1. Python\n",
      "2. R\n",
      "3. Java\n",
      "4. Scala\n",
      "5. C++\n",
      "6. JavaScript\n"
     ]
    }
   ],
   "source": [
    "ordered_list = ['Python', 'R', 'Java', 'Scala', 'C++', 'JavaScript']\n",
    "\n",
    "print('Some of the popular languages that Data Scientists use are:')\n",
    "\n",
    "for i, j in enumerate(ordered_list, start=1):\n",
    "    print(f\"{i}. {j}\")"
   ]
  },
  {
   "cell_type": "markdown",
   "id": "26063f91",
   "metadata": {},
   "source": [
    "Some of the commonly used libraries used by Data Scientists include:"
   ]
  },
  {
   "cell_type": "code",
   "execution_count": 15,
   "id": "67abbbfd",
   "metadata": {},
   "outputs": [
    {
     "name": "stdout",
     "output_type": "stream",
     "text": [
      "Some of the commonly used libraries used by Data Scientists include:\n",
      "1. Pandas\n",
      "2. NumPy\n",
      "3. Matplotlib\n",
      "4. Scikit-learn\n",
      "5. Seaborn\n",
      "6. Keras\n"
     ]
    }
   ],
   "source": [
    "ordered_list = ['Pandas', 'NumPy', 'Matplotlib', 'Scikit-learn', 'Seaborn', 'Keras']\n",
    "\n",
    "print('Some of the commonly used libraries used by Data Scientists include:')\n",
    "\n",
    "for i, j in enumerate(ordered_list, start=1):\n",
    "    print(f\"{i}. {j}\")"
   ]
  },
  {
   "cell_type": "markdown",
   "id": "72244167",
   "metadata": {},
   "source": [
    "Data Science Tools:"
   ]
  },
  {
   "cell_type": "code",
   "execution_count": 17,
   "id": "7cdc08cf",
   "metadata": {},
   "outputs": [
    {
     "name": "stdout",
     "output_type": "stream",
     "text": [
      "Data Science Tools:\n",
      "1. Juputer\n",
      "2. Jupyter Lab\n",
      "3. R Studio\n",
      "4. Apache Spark\n",
      "5. Spyder\n"
     ]
    }
   ],
   "source": [
    "ordered_list = ['Juputer', 'Jupyter Lab', 'R Studio', 'Apache Spark', 'Spyder']\n",
    "\n",
    "print('Data Science Tools:')\n",
    "\n",
    "for i, j in enumerate(ordered_list, start=1):\n",
    "    print(f\"{i}. {j}\")"
   ]
  },
  {
   "cell_type": "markdown",
   "id": "b2067fdf",
   "metadata": {},
   "source": [
    "### Below are a few examples of evaluating arithmetic expressions in Python."
   ]
  },
  {
   "cell_type": "code",
   "execution_count": 19,
   "id": "fb057b2e",
   "metadata": {},
   "outputs": [
    {
     "name": "stdout",
     "output_type": "stream",
     "text": [
      "17\n"
     ]
    }
   ],
   "source": [
    "print((3*4)+5)  #This is a simple arithmetic expression to multiply then add integers"
   ]
  },
  {
   "cell_type": "code",
   "execution_count": 23,
   "id": "cf091380",
   "metadata": {},
   "outputs": [
    {
     "name": "stdout",
     "output_type": "stream",
     "text": [
      "200 minutes in hours are: \n",
      "\n",
      "3.3333333333333335 hours\n"
     ]
    }
   ],
   "source": [
    "minutes = 200\n",
    "\n",
    "print('200 minutes in hours are: \\n')\n",
    "\n",
    "hours = minutes/60     #This will convert 200 minutes to hours by dividing by 60\n",
    "\n",
    "print(hours, 'hours')"
   ]
  },
  {
   "cell_type": "markdown",
   "id": "ebb96098",
   "metadata": {},
   "source": [
    "#### Objectives:\n",
    "    . Popular languages for Data Science\n",
    "    . Tools for Data Science\n",
    "    . Common libraries for Data Science"
   ]
  },
  {
   "cell_type": "markdown",
   "id": "96eafe4f",
   "metadata": {},
   "source": [
    "## Author\n",
    "\n",
    "M S L Dheeraj"
   ]
  },
  {
   "cell_type": "code",
   "execution_count": null,
   "id": "7edb91c1",
   "metadata": {},
   "outputs": [],
   "source": []
  }
 ],
 "metadata": {
  "kernelspec": {
   "display_name": "Python 3 (ipykernel)",
   "language": "python",
   "name": "python3"
  },
  "language_info": {
   "codemirror_mode": {
    "name": "ipython",
    "version": 3
   },
   "file_extension": ".py",
   "mimetype": "text/x-python",
   "name": "python",
   "nbconvert_exporter": "python",
   "pygments_lexer": "ipython3",
   "version": "3.9.13"
  }
 },
 "nbformat": 4,
 "nbformat_minor": 5
}
